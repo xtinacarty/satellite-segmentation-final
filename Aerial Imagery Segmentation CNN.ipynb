{
 "cells": [
  {
   "cell_type": "markdown",
   "id": "7cead1bf",
   "metadata": {},
   "source": [
    "## Creating a Segmentation CNN from Sratch\n",
    "\n",
    "This jupyter notebook serves as a sort of \"App\" that allows users to train a segmentation CNN on Aerial Imagery data from scratch, featuring several moments of user input and interaction.\n",
    "\n",
    "If you are running this in google CoLab, you must begin by un-commenting the cell below and running it. Otherwise, proceed to the next cell."
   ]
  },
  {
   "cell_type": "code",
   "execution_count": null,
   "id": "5edfe2d5",
   "metadata": {},
   "outputs": [],
   "source": [
    "#ONLY GOOGLE CO-LAB USERS:\n",
    "# from google.colab import drive\n",
    "# drive.mount('/content/drive')"
   ]
  },
  {
   "cell_type": "markdown",
   "id": "521212ed",
   "metadata": {},
   "source": [
    "The following two cells concern necessary imports and set ups. If running the Imports cell returns an error due to a missing package, users can uncomment the cell below to pip install the given package and run the Imports cell again."
   ]
  },
  {
   "cell_type": "code",
   "execution_count": null,
   "id": "0dd5ac78",
   "metadata": {},
   "outputs": [],
   "source": [
    "# !pip install 'package-name'"
   ]
  },
  {
   "cell_type": "code",
   "execution_count": null,
   "id": "3644ac59",
   "metadata": {},
   "outputs": [],
   "source": [
    "##IMPORTS## \n",
    "\n",
    "import os\n",
    "os.environ[\"SM_FRAMEWORK\"] = \"tf.keras\"\n",
    "import cv2\n",
    "from PIL import Image\n",
    "import numpy as np\n",
    "from patchify import patchify\n",
    "from sklearn.preprocessing import MinMaxScaler, StandardScaler\n",
    "\n",
    "from matplotlib import pyplot as plt\n",
    "import random\n",
    "\n",
    "# Import necessary libraries for data processing\n",
    "from tensorflow.keras.utils import to_categorical\n",
    "# Import train_test_split from sklearn\n",
    "from sklearn.model_selection import train_test_split\n",
    "\n",
    "from keras.models import Model\n",
    "from keras.layers import Input, Conv2D, MaxPooling2D, UpSampling2D, Conv2DTranspose\n",
    "from keras.layers import concatenate, BatchNormalization, Dropout, Lambda\n",
    "from keras import backend as K\n",
    "\n",
    "import segmentation_models as sm\n",
    "\n",
    "import tensorflow as tf\n",
    "import tensorflow_hub as hub\n",
    "\n",
    "import time\n",
    "\n"
   ]
  },
  {
   "cell_type": "markdown",
   "id": "cd27c185",
   "metadata": {},
   "source": [
    "The below cell imports the necessary functions from the segementation_model.py script to create the CNN. Make sure the segmentation_model.py script is in the same root directory as this notebook."
   ]
  },
  {
   "cell_type": "code",
   "execution_count": null,
   "id": "509ab511",
   "metadata": {},
   "outputs": [],
   "source": [
    "from segmentation_model import run_preprocessing, execute_model"
   ]
  },
  {
   "cell_type": "markdown",
   "id": "454318f7",
   "metadata": {},
   "source": [
    "### Step 1: Data pre-processing\n",
    "The first function will execute a series of preprocessing steps on the training data. Make sure to follow the instructions on the screen carefully during moments of user input, and **only input the listed choices exactly as they appear on screen *(case sensitivity included)*** (often 'y' or 'n' to indicate 'yes' or 'no')"
   ]
  },
  {
   "cell_type": "code",
   "execution_count": null,
   "id": "5b8a206a",
   "metadata": {},
   "outputs": [],
   "source": [
    "image_dataset, labels = run_preprocessing()"
   ]
  },
  {
   "cell_type": "markdown",
   "id": "9d7b8861",
   "metadata": {},
   "source": [
    "### Step 2: Model creation and training\n",
    "The following function actually includes the model training. Model training is computationally intensive and often lengthy. Users should ensure they have the capacity to train the model before launching the function. If users opt to not train when prompted **all the variables created within that function will be lost**.\n",
    "\n",
    "Again, ensure to only input one of the listed choices **exactly** as they appear on the screen when prompted."
   ]
  },
  {
   "cell_type": "code",
   "execution_count": null,
   "id": "7a3b3c5d",
   "metadata": {},
   "outputs": [],
   "source": [
    "model_history = execute_model(labels, image_dataset)"
   ]
  }
 ],
 "metadata": {
  "kernelspec": {
   "display_name": "Python 3 (ipykernel)",
   "language": "python",
   "name": "python3"
  },
  "language_info": {
   "codemirror_mode": {
    "name": "ipython",
    "version": 3
   },
   "file_extension": ".py",
   "mimetype": "text/x-python",
   "name": "python",
   "nbconvert_exporter": "python",
   "pygments_lexer": "ipython3",
   "version": "3.8.8"
  }
 },
 "nbformat": 4,
 "nbformat_minor": 5
}
